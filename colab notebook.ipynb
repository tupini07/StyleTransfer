{
  "nbformat": 4,
  "nbformat_minor": 0,
  "metadata": {
    "colab": {
      "name": "colab notebook.ipynb",
      "version": "0.3.2",
      "provenance": []
    },
    "kernelspec": {
      "name": "python3",
      "display_name": "Python 3"
    },
    "accelerator": "GPU"
  },
  "cells": [
    {
      "cell_type": "code",
      "metadata": {
        "id": "3bHcRFn_RJQH",
        "colab_type": "code",
        "colab": {
          "base_uri": "https://localhost:8080/",
          "height": 71
        },
        "outputId": "7b9acc6c-d40c-46fc-e03d-0d4b9acab301"
      },
      "source": [
        "!ls -l"
      ],
      "execution_count": 51,
      "outputs": [
        {
          "output_type": "stream",
          "text": [
            "total 8\n",
            "drwxr-xr-x 1 root root 4096 May 13 16:48 sample_data\n",
            "drwxr-xr-x 7 root root 4096 May 15 16:14 StyleTransfer\n"
          ],
          "name": "stdout"
        }
      ]
    },
    {
      "cell_type": "code",
      "metadata": {
        "id": "J0KswhL8QzFf",
        "colab_type": "code",
        "colab": {}
      },
      "source": [
        "!rm -rf StyleTransfer/\n",
        "!rm -rf stransfer/\n",
        "!rm -rf data/\n",
        "!rm -rf runs/"
      ],
      "execution_count": 0,
      "outputs": []
    },
    {
      "cell_type": "code",
      "metadata": {
        "id": "x0PV91uPMzAS",
        "colab_type": "code",
        "colab": {
          "base_uri": "https://localhost:8080/",
          "height": 142
        },
        "outputId": "f9aac654-c0c1-418d-cccf-e669c095aad5"
      },
      "source": [
        "!git clone https://github.com/tupini07/StyleTransfer.git\n"
      ],
      "execution_count": 50,
      "outputs": [
        {
          "output_type": "stream",
          "text": [
            "Cloning into 'StyleTransfer'...\n",
            "remote: Enumerating objects: 204, done.\u001b[K\n",
            "remote: Counting objects:   0% (1/204)   \u001b[K\rremote: Counting objects:   1% (3/204)   \u001b[K\rremote: Counting objects:   2% (5/204)   \u001b[K\rremote: Counting objects:   3% (7/204)   \u001b[K\rremote: Counting objects:   4% (9/204)   \u001b[K\rremote: Counting objects:   5% (11/204)   \u001b[K\rremote: Counting objects:   6% (13/204)   \u001b[K\rremote: Counting objects:   7% (15/204)   \u001b[K\rremote: Counting objects:   8% (17/204)   \u001b[K\rremote: Counting objects:   9% (19/204)   \u001b[K\rremote: Counting objects:  10% (21/204)   \u001b[K\rremote: Counting objects:  11% (23/204)   \u001b[K\rremote: Counting objects:  12% (25/204)   \u001b[K\rremote: Counting objects:  13% (27/204)   \u001b[K\rremote: Counting objects:  14% (29/204)   \u001b[K\rremote: Counting objects:  15% (31/204)   \u001b[K\rremote: Counting objects:  16% (33/204)   \u001b[K\rremote: Counting objects:  17% (35/204)   \u001b[K\rremote: Counting objects:  18% (37/204)   \u001b[K\rremote: Counting objects:  19% (39/204)   \u001b[K\rremote: Counting objects:  20% (41/204)   \u001b[K\rremote: Counting objects:  21% (43/204)   \u001b[K\rremote: Counting objects:  22% (45/204)   \u001b[K\rremote: Counting objects:  23% (47/204)   \u001b[K\rremote: Counting objects:  24% (49/204)   \u001b[K\rremote: Counting objects:  25% (51/204)   \u001b[K\rremote: Counting objects:  26% (54/204)   \u001b[K\rremote: Counting objects:  27% (56/204)   \u001b[K\rremote: Counting objects:  28% (58/204)   \u001b[K\rremote: Counting objects:  29% (60/204)   \u001b[K\rremote: Counting objects:  30% (62/204)   \rremote: Counting objects:  31% (64/204)   \u001b[K\rremote: Counting objects:  32% (66/204)   \u001b[K\rremote: Counting objects:  33% (68/204)   \u001b[K\rremote: Counting objects:  34% (70/204)   \u001b[K\rremote: Counting objects:  35% (72/204)   \u001b[K\rremote: Counting objects:  36% (74/204)   \u001b[K\rremote: Counting objects:  37% (76/204)   \u001b[K\rremote: Counting objects:  38% (78/204)   \u001b[K\rremote: Counting objects:  39% (80/204)   \u001b[K\rremote: Counting objects:  40% (82/204)   \u001b[K\rremote: Counting objects:  41% (84/204)   \u001b[K\rremote: Counting objects:  42% (86/204)   \u001b[K\rremote: Counting objects:  43% (88/204)   \u001b[K\rremote: Counting objects:  44% (90/204)   \u001b[K\rremote: Counting objects:  45% (92/204)   \u001b[K\rremote: Counting objects:  46% (94/204)   \u001b[K\rremote: Counting objects:  47% (96/204)   \u001b[K\rremote: Counting objects:  48% (98/204)   \u001b[K\rremote: Counting objects:  49% (100/204)   \u001b[K\rremote: Counting objects:  50% (102/204)   \u001b[K\rremote: Counting objects:  51% (105/204)   \u001b[K\rremote: Counting objects:  52% (107/204)   \u001b[K\rremote: Counting objects:  53% (109/204)   \u001b[K\rremote: Counting objects:  54% (111/204)   \u001b[K\rremote: Counting objects:  55% (113/204)   \u001b[K\rremote: Counting objects:  56% (115/204)   \u001b[K\rremote: Counting objects:  57% (117/204)   \u001b[K\rremote: Counting objects:  58% (119/204)   \u001b[K\rremote: Counting objects:  59% (121/204)   \u001b[K\rremote: Counting objects:  60% (123/204)   \u001b[K\rremote: Counting objects:  61% (125/204)   \u001b[K\rremote: Counting objects:  62% (127/204)   \u001b[K\rremote: Counting objects:  63% (129/204)   \u001b[K\rremote: Counting objects:  64% (131/204)   \u001b[K\rremote: Counting objects:  65% (133/204)   \u001b[K\rremote: Counting objects:  66% (135/204)   \u001b[K\rremote: Counting objects:  67% (137/204)   \u001b[K\rremote: Counting objects:  68% (139/204)   \u001b[K\rremote: Counting objects:  69% (141/204)   \u001b[K\rremote: Counting objects:  70% (143/204)   \u001b[K\rremote: Counting objects:  71% (145/204)   \u001b[K\rremote: Counting objects:  72% (147/204)   \u001b[K\rremote: Counting objects:  73% (149/204)   \u001b[K\rremote: Counting objects:  74% (151/204)   \u001b[K\rremote: Counting objects:  75% (153/204)   \u001b[K\rremote: Counting objects:  76% (156/204)   \u001b[K\rremote: Counting objects:  77% (158/204)   \u001b[K\rremote: Counting objects:  78% (160/204)   \u001b[K\rremote: Counting objects:  79% (162/204)   \u001b[K\rremote: Counting objects:  80% (164/204)   \u001b[K\rremote: Counting objects:  81% (166/204)   \u001b[K\rremote: Counting objects:  82% (168/204)   \u001b[K\rremote: Counting objects:  83% (170/204)   \u001b[K\rremote: Counting objects:  84% (172/204)   \u001b[K\rremote: Counting objects:  85% (174/204)   \u001b[K\rremote: Counting objects:  86% (176/204)   \u001b[K\rremote: Counting objects:  87% (178/204)   \u001b[K\rremote: Counting objects:  88% (180/204)   \u001b[K\rremote: Counting objects:  89% (182/204)   \u001b[K\rremote: Counting objects:  90% (184/204)   \u001b[K\rremote: Counting objects:  91% (186/204)   \u001b[K\rremote: Counting objects:  92% (188/204)   \u001b[K\rremote: Counting objects:  93% (190/204)   \u001b[K\rremote: Counting objects:  94% (192/204)   \u001b[K\rremote: Counting objects:  95% (194/204)   \u001b[K\rremote: Counting objects:  96% (196/204)   \u001b[K\rremote: Counting objects:  97% (198/204)   \u001b[K\rremote: Counting objects:  98% (200/204)   \u001b[K\rremote: Counting objects:  99% (202/204)   \u001b[K\rremote: Counting objects: 100% (204/204)   \u001b[K\rremote: Counting objects: 100% (204/204), done.\u001b[K\n",
            "remote: Compressing objects:   0% (1/135)   \u001b[K\rremote: Compressing objects:   1% (2/135)   \u001b[K\rremote: Compressing objects:   2% (3/135)   \u001b[K\rremote: Compressing objects:   3% (5/135)   \u001b[K\rremote: Compressing objects:   4% (6/135)   \u001b[K\rremote: Compressing objects:   5% (7/135)   \u001b[K\rremote: Compressing objects:   6% (9/135)   \u001b[K\rremote: Compressing objects:   7% (10/135)   \u001b[K\rremote: Compressing objects:   8% (11/135)   \u001b[K\rremote: Compressing objects:   9% (13/135)   \u001b[K\rremote: Compressing objects:  10% (14/135)   \u001b[K\rremote: Compressing objects:  11% (15/135)   \u001b[K\rremote: Compressing objects:  12% (17/135)   \u001b[K\rremote: Compressing objects:  13% (18/135)   \u001b[K\rremote: Compressing objects:  14% (19/135)   \u001b[K\rremote: Compressing objects:  15% (21/135)   \u001b[K\rremote: Compressing objects:  16% (22/135)   \u001b[K\rremote: Compressing objects:  17% (23/135)   \u001b[K\rremote: Compressing objects:  18% (25/135)   \u001b[K\rremote: Compressing objects:  19% (26/135)   \u001b[K\rremote: Compressing objects:  20% (27/135)   \u001b[K\rremote: Compressing objects:  21% (29/135)   \u001b[K\rremote: Compressing objects:  22% (30/135)   \u001b[K\rremote: Compressing objects:  23% (32/135)   \u001b[K\rremote: Compressing objects:  24% (33/135)   \u001b[K\rremote: Compressing objects:  25% (34/135)   \u001b[K\rremote: Compressing objects:  26% (36/135)   \u001b[K\rremote: Compressing objects:  27% (37/135)   \u001b[K\rremote: Compressing objects:  28% (38/135)   \u001b[K\rremote: Compressing objects:  29% (40/135)   \u001b[K\rremote: Compressing objects:  30% (41/135)   \u001b[K\rremote: Compressing objects:  31% (42/135)   \u001b[K\rremote: Compressing objects:  32% (44/135)   \u001b[K\rremote: Compressing objects:  33% (45/135)   \u001b[K\rremote: Compressing objects:  34% (46/135)   \u001b[K\rremote: Compressing objects:  35% (48/135)   \u001b[K\rremote: Compressing objects:  36% (49/135)   \u001b[K\rremote: Compressing objects:  37% (50/135)   \u001b[K\rremote: Compressing objects:  38% (52/135)   \u001b[K\rremote: Compressing objects:  39% (53/135)   \u001b[K\rremote: Compressing objects:  40% (54/135)   \u001b[K\rremote: Compressing objects:  41% (56/135)   \u001b[K\rremote: Compressing objects:  42% (57/135)   \u001b[K\rremote: Compressing objects:  43% (59/135)   \u001b[K\rremote: Compressing objects:  44% (60/135)   \u001b[K\rremote: Compressing objects:  45% (61/135)   \u001b[K\rremote: Compressing objects:  46% (63/135)   \u001b[K\rremote: Compressing objects:  47% (64/135)   \u001b[K\rremote: Compressing objects:  48% (65/135)   \u001b[K\rremote: Compressing objects:  49% (67/135)   \u001b[K\rremote: Compressing objects:  50% (68/135)   \u001b[K\rremote: Compressing objects:  51% (69/135)   \u001b[K\rremote: Compressing objects:  52% (71/135)   \u001b[K\rremote: Compressing objects:  53% (72/135)   \u001b[K\rremote: Compressing objects:  54% (73/135)   \u001b[K\rremote: Compressing objects:  55% (75/135)   \u001b[K\rremote: Compressing objects:  56% (76/135)   \u001b[K\rremote: Compressing objects:  57% (77/135)   \u001b[K\rremote: Compressing objects:  58% (79/135)   \u001b[K\rremote: Compressing objects:  59% (80/135)   \u001b[K\rremote: Compressing objects:  60% (81/135)   \u001b[K\rremote: Compressing objects:  61% (83/135)   \u001b[K\rremote: Compressing objects:  62% (84/135)   \u001b[K\rremote: Compressing objects:  63% (86/135)   \u001b[K\rremote: Compressing objects:  64% (87/135)   \u001b[K\rremote: Compressing objects:  65% (88/135)   \u001b[K\rremote: Compressing objects:  66% (90/135)   \u001b[K\rremote: Compressing objects:  67% (91/135)   \u001b[K\rremote: Compressing objects:  68% (92/135)   \u001b[K\rremote: Compressing objects:  69% (94/135)   \u001b[K\rremote: Compressing objects:  70% (95/135)   \u001b[K\rremote: Compressing objects:  71% (96/135)   \u001b[K\rremote: Compressing objects:  72% (98/135)   \u001b[K\rremote: Compressing objects:  73% (99/135)   \u001b[K\rremote: Compressing objects:  74% (100/135)   \u001b[K\rremote: Compressing objects:  75% (102/135)   \u001b[K\rremote: Compressing objects:  76% (103/135)   \u001b[K\rremote: Compressing objects:  77% (104/135)   \u001b[K\rremote: Compressing objects:  78% (106/135)   \u001b[K\rremote: Compressing objects:  79% (107/135)   \u001b[K\rremote: Compressing objects:  80% (108/135)   \u001b[K\rremote: Compressing objects:  81% (110/135)   \u001b[K\rremote: Compressing objects:  82% (111/135)   \u001b[K\rremote: Compressing objects:  83% (113/135)   \u001b[K\rremote: Compressing objects:  84% (114/135)   \u001b[K\rremote: Compressing objects:  85% (115/135)   \u001b[K\rremote: Compressing objects:  86% (117/135)   \u001b[K\rremote: Compressing objects:  87% (118/135)   \u001b[K\rremote: Compressing objects:  88% (119/135)   \u001b[K\rremote: Compressing objects:  89% (121/135)   \u001b[K\rremote: Compressing objects:  90% (122/135)   \u001b[K\rremote: Compressing objects:  91% (123/135)   \u001b[K\rremote: Compressing objects:  92% (125/135)   \u001b[K\rremote: Compressing objects:  93% (126/135)   \u001b[K\rremote: Compressing objects:  94% (127/135)   \u001b[K\rremote: Compressing objects:  95% (129/135)   \u001b[K\rremote: Compressing objects:  96% (130/135)   \u001b[K\rremote: Compressing objects:  97% (131/135)   \u001b[K\rremote: Compressing objects:  98% (133/135)   \u001b[K\rremote: Compressing objects:  99% (134/135)   \u001b[K\rremote: Compressing objects: 100% (135/135)   \u001b[K\rremote: Compressing objects: 100% (135/135), done.\u001b[K\n",
            "Receiving objects:   0% (1/204)   \rReceiving objects:   1% (3/204)   \rReceiving objects:   2% (5/204)   \rReceiving objects:   3% (7/204)   \rReceiving objects:   4% (9/204)   \rReceiving objects:   5% (11/204)   \rReceiving objects:   6% (13/204)   \rReceiving objects:   7% (15/204)   \rReceiving objects:   8% (17/204)   \rReceiving objects:   9% (19/204)   \rReceiving objects:  10% (21/204)   \rReceiving objects:  11% (23/204)   \rReceiving objects:  12% (25/204)   \rReceiving objects:  13% (27/204)   \rReceiving objects:  14% (29/204)   \rReceiving objects:  15% (31/204)   \rReceiving objects:  16% (33/204)   \rReceiving objects:  17% (35/204)   \rReceiving objects:  18% (37/204)   \rReceiving objects:  19% (39/204)   \rReceiving objects:  20% (41/204)   \rReceiving objects:  21% (43/204)   \rReceiving objects:  22% (45/204)   \rReceiving objects:  23% (47/204)   \rReceiving objects:  24% (49/204)   \rReceiving objects:  25% (51/204)   \rReceiving objects:  26% (54/204)   \rReceiving objects:  27% (56/204)   \rReceiving objects:  28% (58/204)   \rReceiving objects:  29% (60/204)   \rReceiving objects:  30% (62/204)   \rReceiving objects:  31% (64/204)   \rReceiving objects:  32% (66/204)   \rremote: Total 204 (delta 108), reused 147 (delta 57), pack-reused 0\u001b[K\n",
            "Receiving objects:  33% (68/204)   \rReceiving objects:  34% (70/204)   \rReceiving objects:  35% (72/204)   \rReceiving objects:  36% (74/204)   \rReceiving objects:  37% (76/204)   \rReceiving objects:  38% (78/204)   \rReceiving objects:  39% (80/204)   \rReceiving objects:  40% (82/204)   \rReceiving objects:  41% (84/204)   \rReceiving objects:  42% (86/204)   \rReceiving objects:  43% (88/204)   \rReceiving objects:  44% (90/204)   \rReceiving objects:  45% (92/204)   \rReceiving objects:  46% (94/204)   \rReceiving objects:  47% (96/204)   \rReceiving objects:  48% (98/204)   \rReceiving objects:  49% (100/204)   \rReceiving objects:  50% (102/204)   \rReceiving objects:  51% (105/204)   \rReceiving objects:  52% (107/204)   \rReceiving objects:  53% (109/204)   \rReceiving objects:  54% (111/204)   \rReceiving objects:  55% (113/204)   \rReceiving objects:  56% (115/204)   \rReceiving objects:  57% (117/204)   \rReceiving objects:  58% (119/204)   \rReceiving objects:  59% (121/204)   \rReceiving objects:  60% (123/204)   \rReceiving objects:  61% (125/204)   \rReceiving objects:  62% (127/204)   \rReceiving objects:  63% (129/204)   \rReceiving objects:  64% (131/204)   \rReceiving objects:  65% (133/204)   \rReceiving objects:  66% (135/204)   \rReceiving objects:  67% (137/204)   \rReceiving objects:  68% (139/204)   \rReceiving objects:  69% (141/204)   \rReceiving objects:  70% (143/204)   \rReceiving objects:  71% (145/204)   \rReceiving objects:  72% (147/204)   \rReceiving objects:  73% (149/204)   \rReceiving objects:  74% (151/204)   \rReceiving objects:  75% (153/204)   \rReceiving objects:  76% (156/204)   \rReceiving objects:  77% (158/204)   \rReceiving objects:  78% (160/204)   \rReceiving objects:  79% (162/204)   \rReceiving objects:  80% (164/204)   \rReceiving objects:  81% (166/204)   \rReceiving objects:  82% (168/204)   \rReceiving objects:  83% (170/204)   \rReceiving objects:  84% (172/204)   \rReceiving objects:  85% (174/204)   \rReceiving objects:  86% (176/204)   \rReceiving objects:  87% (178/204)   \rReceiving objects:  88% (180/204)   \rReceiving objects:  89% (182/204)   \rReceiving objects:  90% (184/204)   \rReceiving objects:  91% (186/204)   \rReceiving objects:  92% (188/204)   \rReceiving objects:  93% (190/204)   \rReceiving objects:  94% (192/204)   \rReceiving objects:  95% (194/204)   \rReceiving objects:  96% (196/204)   \rReceiving objects:  97% (198/204)   \rReceiving objects:  98% (200/204)   \rReceiving objects:  99% (202/204)   \rReceiving objects: 100% (204/204)   \rReceiving objects: 100% (204/204), 1002.87 KiB | 11.66 MiB/s, done.\n",
            "Resolving deltas:   0% (0/108)   \rResolving deltas:   2% (3/108)   \rResolving deltas:   8% (9/108)   \rResolving deltas:  10% (11/108)   \rResolving deltas:  11% (12/108)   \rResolving deltas:  16% (18/108)   \rResolving deltas:  17% (19/108)   \rResolving deltas:  18% (20/108)   \rResolving deltas:  21% (23/108)   \rResolving deltas:  25% (27/108)   \rResolving deltas:  33% (36/108)   \rResolving deltas:  38% (42/108)   \rResolving deltas:  64% (70/108)   \rResolving deltas:  66% (72/108)   \rResolving deltas:  72% (78/108)   \rResolving deltas:  77% (84/108)   \rResolving deltas:  86% (93/108)   \rResolving deltas:  88% (96/108)   \rResolving deltas:  89% (97/108)   \rResolving deltas:  90% (98/108)   \rResolving deltas: 100% (108/108)   \rResolving deltas: 100% (108/108), done.\n"
          ],
          "name": "stdout"
        }
      ]
    },
    {
      "cell_type": "code",
      "metadata": {
        "id": "yWQSxX5ONREf",
        "colab_type": "code",
        "colab": {
          "base_uri": "https://localhost:8080/",
          "height": 124
        },
        "outputId": "786ec1d4-91f5-48ae-8f12-ce93fbf8f3b4"
      },
      "source": [
        "!pip install tensorboardX pycocotools"
      ],
      "execution_count": 41,
      "outputs": [
        {
          "output_type": "stream",
          "text": [
            "Requirement already satisfied: tensorboardX in /usr/local/lib/python3.6/dist-packages (1.6)\n",
            "Requirement already satisfied: pycocotools in /usr/local/lib/python3.6/dist-packages (2.0.0)\n",
            "Requirement already satisfied: six in /usr/local/lib/python3.6/dist-packages (from tensorboardX) (1.12.0)\n",
            "Requirement already satisfied: protobuf>=3.2.0 in /usr/local/lib/python3.6/dist-packages (from tensorboardX) (3.7.1)\n",
            "Requirement already satisfied: numpy in /usr/local/lib/python3.6/dist-packages (from tensorboardX) (1.16.3)\n",
            "Requirement already satisfied: setuptools in /usr/local/lib/python3.6/dist-packages (from protobuf>=3.2.0->tensorboardX) (41.0.1)\n"
          ],
          "name": "stdout"
        }
      ]
    },
    {
      "cell_type": "code",
      "metadata": {
        "id": "GxPv8xCqRsYc",
        "colab_type": "code",
        "colab": {
          "base_uri": "https://localhost:8080/",
          "height": 71
        },
        "outputId": "849e2333-06fe-4f96-9e7a-6d6ed6c18027"
      },
      "source": [
        "!ls -l"
      ],
      "execution_count": 58,
      "outputs": [
        {
          "output_type": "stream",
          "text": [
            "total 8\n",
            "drwxr-xr-x 1 root root 4096 May 13 16:48 sample_data\n",
            "drwxr-xr-x 7 root root 4096 May 15 16:14 StyleTransfer\n"
          ],
          "name": "stdout"
        }
      ]
    },
    {
      "cell_type": "code",
      "metadata": {
        "id": "wvIUXNodNLms",
        "colab_type": "code",
        "colab": {}
      },
      "source": [
        "import datetime\n",
        "import logging\n",
        "\n",
        "import click\n",
        "import torch\n",
        "from tqdm import tqdm\n",
        "\n",
        "from stransfer import c_logging, constants, img_utils, network\n",
        "\n",
        "LOGGER = logging.getLogger(__name__)"
      ],
      "execution_count": 0,
      "outputs": []
    },
    {
      "cell_type": "code",
      "metadata": {
        "id": "tibkc0UOMMup",
        "colab_type": "code",
        "colab": {}
      },
      "source": [
        "def run_fast_style_transfer(style_path, content_path, steps=220, dir=\"\"):\n",
        "\n",
        "    content_path = \"data/dancing.jpg\"\n",
        "    style_path = \"data/picasso.jpg\"\n",
        "\n",
        "    style_image = img_utils.image_loader(style_path)\n",
        "    content_images = [img_utils.image_loader(content_path)]\n",
        "\n",
        "    fast_net = network.ImageTransformNet(style_image)\n",
        "\n",
        "    return fast_net.train()"
      ],
      "execution_count": 0,
      "outputs": []
    },
    {
      "cell_type": "code",
      "metadata": {
        "id": "JOjVWm2IMMuv",
        "colab_type": "code",
        "colab": {
          "base_uri": "https://localhost:8080/",
          "height": 318
        },
        "outputId": "c1ca5dc0-c6c1-40b5-a39d-a9aad33076a4"
      },
      "source": [
        "run_fast_style_transfer(0, 0)"
      ],
      "execution_count": 44,
      "outputs": [
        {
          "output_type": "error",
          "ename": "RuntimeError",
          "evalue": "ignored",
          "traceback": [
            "\u001b[0;31m---------------------------------------------------------------------------\u001b[0m",
            "\u001b[0;31mRuntimeError\u001b[0m                              Traceback (most recent call last)",
            "\u001b[0;32m<ipython-input-44-f2deebb810b4>\u001b[0m in \u001b[0;36m<module>\u001b[0;34m()\u001b[0m\n\u001b[0;32m----> 1\u001b[0;31m \u001b[0mrun_fast_style_transfer\u001b[0m\u001b[0;34m(\u001b[0m\u001b[0;36m0\u001b[0m\u001b[0;34m,\u001b[0m \u001b[0;36m0\u001b[0m\u001b[0;34m)\u001b[0m\u001b[0;34m\u001b[0m\u001b[0;34m\u001b[0m\u001b[0m\n\u001b[0m",
            "\u001b[0;32m<ipython-input-43-8db54b9a8e70>\u001b[0m in \u001b[0;36mrun_fast_style_transfer\u001b[0;34m(style_path, content_path, steps, dir)\u001b[0m\n\u001b[1;32m      9\u001b[0m     \u001b[0mfast_net\u001b[0m \u001b[0;34m=\u001b[0m \u001b[0mnetwork\u001b[0m\u001b[0;34m.\u001b[0m\u001b[0mImageTransformNet\u001b[0m\u001b[0;34m(\u001b[0m\u001b[0mstyle_image\u001b[0m\u001b[0;34m)\u001b[0m\u001b[0;34m\u001b[0m\u001b[0;34m\u001b[0m\u001b[0m\n\u001b[1;32m     10\u001b[0m \u001b[0;34m\u001b[0m\u001b[0m\n\u001b[0;32m---> 11\u001b[0;31m     \u001b[0;32mreturn\u001b[0m \u001b[0mfast_net\u001b[0m\u001b[0;34m.\u001b[0m\u001b[0mtrain\u001b[0m\u001b[0;34m(\u001b[0m\u001b[0;34m)\u001b[0m\u001b[0;34m\u001b[0m\u001b[0;34m\u001b[0m\u001b[0m\n\u001b[0m",
            "\u001b[0;32m/content/stransfer/network.py\u001b[0m in \u001b[0;36mtrain\u001b[0;34m(self)\u001b[0m\n\u001b[1;32m    499\u001b[0m \u001b[0;34m\u001b[0m\u001b[0m\n\u001b[1;32m    500\u001b[0m         loss_network = StyleNetwork(self.style_image,\n\u001b[0;32m--> 501\u001b[0;31m                                     torch.rand([1, 3, 256, 256]).to(constants.DEVICE))\n\u001b[0m\u001b[1;32m    502\u001b[0m \u001b[0;34m\u001b[0m\u001b[0m\n\u001b[1;32m    503\u001b[0m         \u001b[0moptimizer\u001b[0m \u001b[0;34m=\u001b[0m \u001b[0mself\u001b[0m\u001b[0;34m.\u001b[0m\u001b[0mget_optimizer\u001b[0m\u001b[0;34m(\u001b[0m\u001b[0;34m)\u001b[0m\u001b[0;34m\u001b[0m\u001b[0;34m\u001b[0m\u001b[0m\n",
            "\u001b[0;32m/content/stransfer/network.py\u001b[0m in \u001b[0;36m__init__\u001b[0;34m(self, style_image, content_image)\u001b[0m\n\u001b[1;32m    179\u001b[0m \u001b[0;34m\u001b[0m\u001b[0m\n\u001b[1;32m    180\u001b[0m             \u001b[0;32mif\u001b[0m \u001b[0mlayer_name\u001b[0m \u001b[0;32min\u001b[0m \u001b[0mself\u001b[0m\u001b[0;34m.\u001b[0m\u001b[0mcontent_layers\u001b[0m\u001b[0;34m:\u001b[0m\u001b[0;34m\u001b[0m\u001b[0;34m\u001b[0m\u001b[0m\n\u001b[0;32m--> 181\u001b[0;31m                 \u001b[0mlayer_output\u001b[0m \u001b[0;34m=\u001b[0m \u001b[0mself\u001b[0m\u001b[0;34m.\u001b[0m\u001b[0mrun_through_pieces\u001b[0m\u001b[0;34m(\u001b[0m\u001b[0mcontent_image\u001b[0m\u001b[0;34m)\u001b[0m\u001b[0;34m\u001b[0m\u001b[0;34m\u001b[0m\u001b[0m\n\u001b[0m\u001b[1;32m    182\u001b[0m                 \u001b[0mcontent_loss\u001b[0m \u001b[0;34m=\u001b[0m \u001b[0mContentLoss\u001b[0m\u001b[0;34m(\u001b[0m\u001b[0mlayer_output\u001b[0m\u001b[0;34m)\u001b[0m\u001b[0;34m\u001b[0m\u001b[0;34m\u001b[0m\u001b[0m\n\u001b[1;32m    183\u001b[0m                 \u001b[0mself\u001b[0m\u001b[0;34m.\u001b[0m\u001b[0mcontent_losses\u001b[0m\u001b[0;34m.\u001b[0m\u001b[0mappend\u001b[0m\u001b[0;34m(\u001b[0m\u001b[0;34m[\u001b[0m\u001b[0mcontent_loss\u001b[0m\u001b[0;34m,\u001b[0m \u001b[0mcurrent_piece\u001b[0m\u001b[0;34m]\u001b[0m\u001b[0;34m)\u001b[0m\u001b[0;34m\u001b[0m\u001b[0;34m\u001b[0m\u001b[0m\n",
            "\u001b[0;32m/content/stransfer/network.py\u001b[0m in \u001b[0;36mrun_through_pieces\u001b[0;34m(self, input_g, until)\u001b[0m\n\u001b[1;32m    215\u001b[0m         \u001b[0;31m# finally run the input image through the pieces\u001b[0m\u001b[0;34m\u001b[0m\u001b[0;34m\u001b[0m\u001b[0;34m\u001b[0m\u001b[0m\n\u001b[1;32m    216\u001b[0m         \u001b[0;32mfor\u001b[0m \u001b[0mpiece\u001b[0m \u001b[0;32min\u001b[0m \u001b[0mpieces\u001b[0m\u001b[0;34m:\u001b[0m\u001b[0;34m\u001b[0m\u001b[0;34m\u001b[0m\u001b[0m\n\u001b[0;32m--> 217\u001b[0;31m             \u001b[0mx\u001b[0m \u001b[0;34m=\u001b[0m \u001b[0mpiece\u001b[0m\u001b[0;34m(\u001b[0m\u001b[0mx\u001b[0m\u001b[0;34m)\u001b[0m\u001b[0;34m\u001b[0m\u001b[0;34m\u001b[0m\u001b[0m\n\u001b[0m\u001b[1;32m    218\u001b[0m \u001b[0;34m\u001b[0m\u001b[0m\n\u001b[1;32m    219\u001b[0m         \u001b[0;32mreturn\u001b[0m \u001b[0mx\u001b[0m\u001b[0;34m\u001b[0m\u001b[0;34m\u001b[0m\u001b[0m\n",
            "\u001b[0;32m/usr/local/lib/python3.6/dist-packages/torch/nn/modules/module.py\u001b[0m in \u001b[0;36m__call__\u001b[0;34m(self, *input, **kwargs)\u001b[0m\n\u001b[1;32m    491\u001b[0m             \u001b[0mresult\u001b[0m \u001b[0;34m=\u001b[0m \u001b[0mself\u001b[0m\u001b[0;34m.\u001b[0m\u001b[0m_slow_forward\u001b[0m\u001b[0;34m(\u001b[0m\u001b[0;34m*\u001b[0m\u001b[0minput\u001b[0m\u001b[0;34m,\u001b[0m \u001b[0;34m**\u001b[0m\u001b[0mkwargs\u001b[0m\u001b[0;34m)\u001b[0m\u001b[0;34m\u001b[0m\u001b[0;34m\u001b[0m\u001b[0m\n\u001b[1;32m    492\u001b[0m         \u001b[0;32melse\u001b[0m\u001b[0;34m:\u001b[0m\u001b[0;34m\u001b[0m\u001b[0;34m\u001b[0m\u001b[0m\n\u001b[0;32m--> 493\u001b[0;31m             \u001b[0mresult\u001b[0m \u001b[0;34m=\u001b[0m \u001b[0mself\u001b[0m\u001b[0;34m.\u001b[0m\u001b[0mforward\u001b[0m\u001b[0;34m(\u001b[0m\u001b[0;34m*\u001b[0m\u001b[0minput\u001b[0m\u001b[0;34m,\u001b[0m \u001b[0;34m**\u001b[0m\u001b[0mkwargs\u001b[0m\u001b[0;34m)\u001b[0m\u001b[0;34m\u001b[0m\u001b[0;34m\u001b[0m\u001b[0m\n\u001b[0m\u001b[1;32m    494\u001b[0m         \u001b[0;32mfor\u001b[0m \u001b[0mhook\u001b[0m \u001b[0;32min\u001b[0m \u001b[0mself\u001b[0m\u001b[0;34m.\u001b[0m\u001b[0m_forward_hooks\u001b[0m\u001b[0;34m.\u001b[0m\u001b[0mvalues\u001b[0m\u001b[0;34m(\u001b[0m\u001b[0;34m)\u001b[0m\u001b[0;34m:\u001b[0m\u001b[0;34m\u001b[0m\u001b[0;34m\u001b[0m\u001b[0m\n\u001b[1;32m    495\u001b[0m             \u001b[0mhook_result\u001b[0m \u001b[0;34m=\u001b[0m \u001b[0mhook\u001b[0m\u001b[0;34m(\u001b[0m\u001b[0mself\u001b[0m\u001b[0;34m,\u001b[0m \u001b[0minput\u001b[0m\u001b[0;34m,\u001b[0m \u001b[0mresult\u001b[0m\u001b[0;34m)\u001b[0m\u001b[0;34m\u001b[0m\u001b[0;34m\u001b[0m\u001b[0m\n",
            "\u001b[0;32m/usr/local/lib/python3.6/dist-packages/torch/nn/modules/container.py\u001b[0m in \u001b[0;36mforward\u001b[0;34m(self, input)\u001b[0m\n\u001b[1;32m     90\u001b[0m     \u001b[0;32mdef\u001b[0m \u001b[0mforward\u001b[0m\u001b[0;34m(\u001b[0m\u001b[0mself\u001b[0m\u001b[0;34m,\u001b[0m \u001b[0minput\u001b[0m\u001b[0;34m)\u001b[0m\u001b[0;34m:\u001b[0m\u001b[0;34m\u001b[0m\u001b[0;34m\u001b[0m\u001b[0m\n\u001b[1;32m     91\u001b[0m         \u001b[0;32mfor\u001b[0m \u001b[0mmodule\u001b[0m \u001b[0;32min\u001b[0m \u001b[0mself\u001b[0m\u001b[0;34m.\u001b[0m\u001b[0m_modules\u001b[0m\u001b[0;34m.\u001b[0m\u001b[0mvalues\u001b[0m\u001b[0;34m(\u001b[0m\u001b[0;34m)\u001b[0m\u001b[0;34m:\u001b[0m\u001b[0;34m\u001b[0m\u001b[0;34m\u001b[0m\u001b[0m\n\u001b[0;32m---> 92\u001b[0;31m             \u001b[0minput\u001b[0m \u001b[0;34m=\u001b[0m \u001b[0mmodule\u001b[0m\u001b[0;34m(\u001b[0m\u001b[0minput\u001b[0m\u001b[0;34m)\u001b[0m\u001b[0;34m\u001b[0m\u001b[0;34m\u001b[0m\u001b[0m\n\u001b[0m\u001b[1;32m     93\u001b[0m         \u001b[0;32mreturn\u001b[0m \u001b[0minput\u001b[0m\u001b[0;34m\u001b[0m\u001b[0;34m\u001b[0m\u001b[0m\n\u001b[1;32m     94\u001b[0m \u001b[0;34m\u001b[0m\u001b[0m\n",
            "\u001b[0;32m/usr/local/lib/python3.6/dist-packages/torch/nn/modules/module.py\u001b[0m in \u001b[0;36m__call__\u001b[0;34m(self, *input, **kwargs)\u001b[0m\n\u001b[1;32m    491\u001b[0m             \u001b[0mresult\u001b[0m \u001b[0;34m=\u001b[0m \u001b[0mself\u001b[0m\u001b[0;34m.\u001b[0m\u001b[0m_slow_forward\u001b[0m\u001b[0;34m(\u001b[0m\u001b[0;34m*\u001b[0m\u001b[0minput\u001b[0m\u001b[0;34m,\u001b[0m \u001b[0;34m**\u001b[0m\u001b[0mkwargs\u001b[0m\u001b[0;34m)\u001b[0m\u001b[0;34m\u001b[0m\u001b[0;34m\u001b[0m\u001b[0m\n\u001b[1;32m    492\u001b[0m         \u001b[0;32melse\u001b[0m\u001b[0;34m:\u001b[0m\u001b[0;34m\u001b[0m\u001b[0;34m\u001b[0m\u001b[0m\n\u001b[0;32m--> 493\u001b[0;31m             \u001b[0mresult\u001b[0m \u001b[0;34m=\u001b[0m \u001b[0mself\u001b[0m\u001b[0;34m.\u001b[0m\u001b[0mforward\u001b[0m\u001b[0;34m(\u001b[0m\u001b[0;34m*\u001b[0m\u001b[0minput\u001b[0m\u001b[0;34m,\u001b[0m \u001b[0;34m**\u001b[0m\u001b[0mkwargs\u001b[0m\u001b[0;34m)\u001b[0m\u001b[0;34m\u001b[0m\u001b[0;34m\u001b[0m\u001b[0m\n\u001b[0m\u001b[1;32m    494\u001b[0m         \u001b[0;32mfor\u001b[0m \u001b[0mhook\u001b[0m \u001b[0;32min\u001b[0m \u001b[0mself\u001b[0m\u001b[0;34m.\u001b[0m\u001b[0m_forward_hooks\u001b[0m\u001b[0;34m.\u001b[0m\u001b[0mvalues\u001b[0m\u001b[0;34m(\u001b[0m\u001b[0;34m)\u001b[0m\u001b[0;34m:\u001b[0m\u001b[0;34m\u001b[0m\u001b[0;34m\u001b[0m\u001b[0m\n\u001b[1;32m    495\u001b[0m             \u001b[0mhook_result\u001b[0m \u001b[0;34m=\u001b[0m \u001b[0mhook\u001b[0m\u001b[0;34m(\u001b[0m\u001b[0mself\u001b[0m\u001b[0;34m,\u001b[0m \u001b[0minput\u001b[0m\u001b[0;34m,\u001b[0m \u001b[0mresult\u001b[0m\u001b[0;34m)\u001b[0m\u001b[0;34m\u001b[0m\u001b[0;34m\u001b[0m\u001b[0m\n",
            "\u001b[0;32m/content/stransfer/network.py\u001b[0m in \u001b[0;36mforward\u001b[0;34m(self, img)\u001b[0m\n\u001b[1;32m    121\u001b[0m     \u001b[0;32mdef\u001b[0m \u001b[0mforward\u001b[0m\u001b[0;34m(\u001b[0m\u001b[0mself\u001b[0m\u001b[0;34m,\u001b[0m \u001b[0mimg\u001b[0m\u001b[0;34m)\u001b[0m\u001b[0;34m:\u001b[0m\u001b[0;34m\u001b[0m\u001b[0;34m\u001b[0m\u001b[0m\n\u001b[1;32m    122\u001b[0m         \u001b[0;31m# normalize img\u001b[0m\u001b[0;34m\u001b[0m\u001b[0;34m\u001b[0m\u001b[0;34m\u001b[0m\u001b[0m\n\u001b[0;32m--> 123\u001b[0;31m         \u001b[0;32mreturn\u001b[0m \u001b[0;34m(\u001b[0m\u001b[0mimg\u001b[0m \u001b[0;34m-\u001b[0m \u001b[0mself\u001b[0m\u001b[0;34m.\u001b[0m\u001b[0mmean\u001b[0m\u001b[0;34m)\u001b[0m \u001b[0;34m/\u001b[0m \u001b[0mself\u001b[0m\u001b[0;34m.\u001b[0m\u001b[0mstd\u001b[0m\u001b[0;34m\u001b[0m\u001b[0;34m\u001b[0m\u001b[0m\n\u001b[0m\u001b[1;32m    124\u001b[0m \u001b[0;34m\u001b[0m\u001b[0m\n\u001b[1;32m    125\u001b[0m \u001b[0;34m\u001b[0m\u001b[0m\n",
            "\u001b[0;31mRuntimeError\u001b[0m: expected backend CPU and dtype Float but got backend CUDA and dtype Float"
          ]
        }
      ]
    },
    {
      "cell_type": "code",
      "metadata": {
        "id": "C9Wa9t5qNn_k",
        "colab_type": "code",
        "colab": {}
      },
      "source": [
        " "
      ],
      "execution_count": 0,
      "outputs": []
    }
  ]
}