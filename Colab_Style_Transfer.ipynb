{
  "nbformat": 4,
  "nbformat_minor": 0,
  "metadata": {
    "colab": {
      "name": "Colab Style Transfer.ipynb",
      "version": "0.3.2",
      "provenance": [],
      "collapsed_sections": [
        "ZaLdeNtEeSqM",
        "Q0jeuIKmeLu_"
      ],
      "toc_visible": true,
      "include_colab_link": true
    },
    "kernelspec": {
      "name": "python3",
      "display_name": "Python 3"
    },
    "accelerator": "GPU"
  },
  "cells": [
    {
      "cell_type": "markdown",
      "metadata": {
        "id": "view-in-github",
        "colab_type": "text"
      },
      "source": [
        "<a href=\"https://colab.research.google.com/github/tupini07/StyleTransfer/blob/master/Colab_Style_Transfer.ipynb\" target=\"_parent\"><img src=\"https://colab.research.google.com/assets/colab-badge.svg\" alt=\"Open In Colab\"/></a>"
      ]
    },
    {
      "cell_type": "markdown",
      "metadata": {
        "id": "ZaLdeNtEeSqM",
        "colab_type": "text"
      },
      "source": [
        "# Download COCO dataset and install dependencies"
      ]
    },
    {
      "cell_type": "code",
      "metadata": {
        "id": "nsGPrABf5NnA",
        "colab_type": "code",
        "colab": {}
      },
      "source": [
        "!wget --load-cookies /tmp/cookies.txt \"https://docs.google.com/uc?export=download&confirm=$(wget --quiet --save-cookies /tmp/cookies.txt --keep-session-cookies --no-check-certificate 'https://docs.google.com/uc?export=download&id=1mTZGqm9fq8vGjkpNph-fhZXW2Dkt-tsH' -O- | sed -rn 's/.*confirm=([0-9A-Za-z_]+).*/\\1\\n/p')&id=1mTZGqm9fq8vGjkpNph-fhZXW2Dkt-tsH\" -O coco_dataset.7z && rm -rf /tmp/cookies.txt"
      ],
      "execution_count": 0,
      "outputs": []
    },
    {
      "cell_type": "code",
      "metadata": {
        "id": "AOXUMKvH6s6_",
        "colab_type": "code",
        "colab": {}
      },
      "source": [
        "!ls -lh"
      ],
      "execution_count": 0,
      "outputs": []
    },
    {
      "cell_type": "code",
      "metadata": {
        "id": "uzZsxGOUeJ9C",
        "colab_type": "code",
        "colab": {}
      },
      "source": [
        "!7z x /content/coco_dataset.7z -o/content/data"
      ],
      "execution_count": 0,
      "outputs": []
    },
    {
      "cell_type": "code",
      "metadata": {
        "id": "HItnq0RuelIb",
        "colab_type": "code",
        "colab": {}
      },
      "source": [
        "!du -h data/"
      ],
      "execution_count": 0,
      "outputs": []
    },
    {
      "cell_type": "code",
      "metadata": {
        "id": "tmGb0TKQelsi",
        "colab_type": "code",
        "colab": {}
      },
      "source": [
        "!ls -l data/coco_dataset/images | wc -l"
      ],
      "execution_count": 0,
      "outputs": []
    },
    {
      "cell_type": "code",
      "metadata": {
        "id": "5S3vFokqeiKP",
        "colab_type": "code",
        "colab": {}
      },
      "source": [
        "!pip install tensorboardX pycocotools requests imageio imageio-ffmpeg colored_traceback"
      ],
      "execution_count": 0,
      "outputs": []
    },
    {
      "cell_type": "markdown",
      "metadata": {
        "id": "Q0jeuIKmeLu_",
        "colab_type": "text"
      },
      "source": [
        "# Clone StyleTransfer repo"
      ]
    },
    {
      "cell_type": "code",
      "metadata": {
        "id": "gOTKNjK0FZd0",
        "colab_type": "code",
        "colab": {}
      },
      "source": [
        "!rm -rf StyleTransfer/\n",
        "!rm -rf stransfer/\n",
        "!rm -rf sample_data/"
      ],
      "execution_count": 0,
      "outputs": []
    },
    {
      "cell_type": "code",
      "metadata": {
        "id": "-8WzBJRxFa-r",
        "colab_type": "code",
        "colab": {}
      },
      "source": [
        "!git clone https://github.com/tupini07/StyleTransfer.git"
      ],
      "execution_count": 0,
      "outputs": []
    },
    {
      "cell_type": "code",
      "metadata": {
        "id": "MxQaPi7yFjHM",
        "colab_type": "code",
        "colab": {}
      },
      "source": [
        "!mv StyleTransfer/stransfer/ stransfer/\n",
        "!mv StyleTransfer/data/ data/"
      ],
      "execution_count": 0,
      "outputs": []
    },
    {
      "cell_type": "code",
      "metadata": {
        "id": "GxPv8xCqRsYc",
        "colab_type": "code",
        "colab": {}
      },
      "source": [
        "!ls -l"
      ],
      "execution_count": 0,
      "outputs": []
    },
    {
      "cell_type": "markdown",
      "metadata": {
        "id": "TowvuV5m7cti",
        "colab_type": "text"
      },
      "source": [
        "# Execute commands below"
      ]
    },
    {
      "cell_type": "markdown",
      "metadata": {
        "id": "BiF2THRi8E6T",
        "colab_type": "text"
      },
      "source": [
        "Here you can execute commands as if you were running them from a normal terminal. Just remember to prepend `!` to your command. For example:"
      ]
    },
    {
      "cell_type": "code",
      "metadata": {
        "id": "jgoQWhe57x8n",
        "colab_type": "code",
        "colab": {}
      },
      "source": [
        "!python -m stransfer"
      ],
      "execution_count": 0,
      "outputs": []
    }
  ]
}